{
  "nbformat": 4,
  "nbformat_minor": 0,
  "metadata": {
    "colab": {
      "name": "shallowCNN.ipynb",
      "provenance": [],
      "collapsed_sections": []
    },
    "kernelspec": {
      "name": "python3",
      "display_name": "Python 3"
    },
    "accelerator": "GPU"
  },
  "cells": [
    {
      "cell_type": "markdown",
      "metadata": {
        "id": "xtRaty2OzoR6"
      },
      "source": [
        "# CNN Applied to EEG Data\r\n"
      ]
    },
    {
      "cell_type": "markdown",
      "metadata": {
        "id": "D7QBDi6az5zq"
      },
      "source": [
        "## Preparation and Loading Data"
      ]
    },
    {
      "cell_type": "code",
      "metadata": {
        "id": "1jt1nKNSz6Ii",
        "colab": {
          "base_uri": "https://localhost:8080/"
        },
        "outputId": "e9f917d2-e971-4087-cae0-3388125215fa"
      },
      "source": [
        "from google.colab import drive\r\n",
        "drive.mount('/content/drive')"
      ],
      "execution_count": 1,
      "outputs": [
        {
          "output_type": "stream",
          "text": [
            "Mounted at /content/drive\n"
          ],
          "name": "stdout"
        }
      ]
    },
    {
      "cell_type": "code",
      "metadata": {
        "colab": {
          "base_uri": "https://localhost:8080/",
          "height": 34
        },
        "id": "wxr93gf00I1r",
        "outputId": "4a334254-9b26-4e51-aa1c-9d65cb7be19a"
      },
      "source": [
        "%pwd"
      ],
      "execution_count": 2,
      "outputs": [
        {
          "output_type": "execute_result",
          "data": {
            "application/vnd.google.colaboratory.intrinsic+json": {
              "type": "string"
            },
            "text/plain": [
              "'/content'"
            ]
          },
          "metadata": {
            "tags": []
          },
          "execution_count": 2
        }
      ]
    },
    {
      "cell_type": "code",
      "metadata": {
        "colab": {
          "base_uri": "https://localhost:8080/"
        },
        "id": "3kojpwwV042P",
        "outputId": "81b6bdf9-ef7c-4509-c73c-0fe274bfdbb2"
      },
      "source": [
        "% cd 'drive/My Drive/ECE C147'\r\n",
        "% cd 'project'\r\n",
        "% ls\r\n"
      ],
      "execution_count": 3,
      "outputs": [
        {
          "output_type": "stream",
          "text": [
            "/content/drive/My Drive/ECE C147\n",
            "/content/drive/My Drive/ECE C147/project\n",
            "EEG_loading.ipynb  person_train_valid.npy  X_train_valid.npy  y_train_valid.npy\n",
            "person_test.npy    X_test.npy              y_test.npy\n"
          ],
          "name": "stdout"
        }
      ]
    },
    {
      "cell_type": "code",
      "metadata": {
        "id": "twAVHjJO1RbA"
      },
      "source": [
        "def count_parameters(model):\r\n",
        "  \"\"\"Function for count model's parameters\"\"\"\r\n",
        "  return sum(p.numel() for p in model.parameters() if p.requires_grad)"
      ],
      "execution_count": 4,
      "outputs": []
    },
    {
      "cell_type": "code",
      "metadata": {
        "colab": {
          "base_uri": "https://localhost:8080/"
        },
        "id": "WPfULtUM1Sau",
        "outputId": "4e6b77a5-e971-4af7-e217-55abbc9e837f"
      },
      "source": [
        "import numpy as np\r\n",
        "import torch\r\n",
        "import torch.nn as nn\r\n",
        "from torch.utils.data import Dataset, DataLoader, TensorDataset, random_split\r\n",
        "from torchvision import transforms, utils\r\n",
        "import time\r\n",
        "\r\n",
        "# specific package for visualization\r\n",
        "!pip install livelossplot --quiet\r\n",
        "from livelossplot import PlotLosses\r\n",
        "\r\n",
        "# get the device type of machine\r\n",
        "device = torch.device('cuda' if torch.cuda.is_available() else 'cpu')\r\n",
        "# device = 'cpu'\r\n",
        "print(device)"
      ],
      "execution_count": 5,
      "outputs": [
        {
          "output_type": "stream",
          "text": [
            "cuda\n"
          ],
          "name": "stdout"
        }
      ]
    },
    {
      "cell_type": "code",
      "metadata": {
        "colab": {
          "base_uri": "https://localhost:8080/"
        },
        "id": "LC77bF412DbC",
        "outputId": "ceb9669c-c98f-4581-b665-16afbab2cf1e"
      },
      "source": [
        "X_test = np.load(\"X_test.npy\")\r\n",
        "y_test = np.load(\"y_test.npy\")\r\n",
        "person_train_valid = np.load(\"person_train_valid.npy\")\r\n",
        "X_train_valid = np.load(\"X_train_valid.npy\")\r\n",
        "y_train_valid = np.load(\"y_train_valid.npy\")\r\n",
        "person_test = np.load(\"person_test.npy\")\r\n",
        "\r\n",
        "# adjust labels \r\n",
        "y_train_valid -= 769\r\n",
        "y_test -= 769\r\n",
        "\r\n",
        "\r\n",
        "print('y_train_valid', y_train_valid[:10])\r\n",
        "\r\n",
        "# copy numpy data to tensor\r\n",
        "X_train_valid_tensor = torch.from_numpy(X_train_valid).float().to(device)\r\n",
        "y_train_valid_tensor = torch.from_numpy(y_train_valid).float().long().to(device) # do not forget .long()\r\n",
        "X_test_tensor = torch.from_numpy(X_test).float().to(device)\r\n",
        "y_test_tensor = torch.from_numpy(y_test).float().long().to(device)\r\n",
        "\r\n",
        "\r\n",
        "# # convert int labels to one hot labels\r\n",
        "# y_train_valid_tensor = nn.functional.one_hot(y_train_valid_tensor)\r\n",
        "# print('y_train_valid_onehot', y_train_valid_tensor[:10])"
      ],
      "execution_count": 6,
      "outputs": [
        {
          "output_type": "stream",
          "text": [
            "y_train_valid [2 3 0 0 0 0 2 1 3 3]\n"
          ],
          "name": "stdout"
        }
      ]
    },
    {
      "cell_type": "code",
      "metadata": {
        "colab": {
          "base_uri": "https://localhost:8080/"
        },
        "id": "UEhGSsvu2Qty",
        "outputId": "483d9e48-252e-4b3d-a08f-ee63a576b516"
      },
      "source": [
        "print ('Training/Valid data shape: {}'.format(X_train_valid.shape))\r\n",
        "print ('Test data shape: {}'.format(X_test.shape))\r\n",
        "print ('Training/Valid target shape: {}'.format(y_train_valid.shape))\r\n",
        "print ('Test target shape: {}'.format(y_test.shape))\r\n",
        "print ('Person train/valid shape: {}'.format(person_train_valid.shape))\r\n",
        "print ('Person test shape: {}'.format(person_test.shape))"
      ],
      "execution_count": 7,
      "outputs": [
        {
          "output_type": "stream",
          "text": [
            "Training/Valid data shape: (2115, 22, 1000)\n",
            "Test data shape: (443, 22, 1000)\n",
            "Training/Valid target shape: (2115,)\n",
            "Test target shape: (443,)\n",
            "Person train/valid shape: (2115, 1)\n",
            "Person test shape: (443, 1)\n"
          ],
          "name": "stdout"
        }
      ]
    },
    {
      "cell_type": "code",
      "metadata": {
        "id": "RzAno7Ir35pR"
      },
      "source": [
        "class EEGDataset(Dataset):\r\n",
        "    \"\"\"EEG dataset.\"\"\"\r\n",
        "    def __init__(self, subset, transform=None):\r\n",
        "        self.subset = subset\r\n",
        "        self.transform = transform\r\n",
        "        \r\n",
        "    def __getitem__(self, index):\r\n",
        "        x, y = self.subset[index]\r\n",
        "        if self.transform:\r\n",
        "          pass \r\n",
        "            # x = self.transform(x)\r\n",
        "            # y = self.transform(y)\r\n",
        "        return x, y\r\n",
        "        \r\n",
        "    def __len__(self):\r\n",
        "        return len(self.subset)\r\n",
        "\r\n",
        "init_dataset = TensorDataset(X_train_valid_tensor, y_train_valid_tensor) \r\n",
        "test_dataset = TensorDataset(X_test_tensor,y_test_tensor)\r\n",
        "# split train and val\r\n",
        "lengths = [int(len(init_dataset)*0.8), int(len(init_dataset)*0.2)] \r\n",
        "subset_train, subset_val = random_split(init_dataset, lengths) \r\n",
        "\r\n",
        "train_data = EEGDataset(\r\n",
        "    subset_train, transform=None)\r\n",
        "\r\n",
        "val_data = EEGDataset(\r\n",
        "    subset_val, transform=None)\r\n",
        "\r\n",
        "test_data=EEGDataset(test_dataset,transform=None)\r\n",
        "\r\n",
        "dataloaders = {\r\n",
        "    'train': torch.utils.data.DataLoader(train_data, batch_size=32, shuffle=True, num_workers=0),\r\n",
        "    'val': torch.utils.data.DataLoader(val_data, batch_size=32, shuffle=True, num_workers=0),\r\n",
        "    'test':torch.utils.data.DataLoader(test_data, batch_size=64, shuffle=False, num_workers=0)\r\n",
        "}"
      ],
      "execution_count": 8,
      "outputs": []
    },
    {
      "cell_type": "markdown",
      "metadata": {
        "id": "CHDvcMnX4DtN"
      },
      "source": [
        "## Model"
      ]
    },
    {
      "cell_type": "code",
      "metadata": {
        "id": "iwjrA-Ou38Cr"
      },
      "source": [
        "class ShallowConv(nn.Module):\r\n",
        "    \r\n",
        "    # Defining the building blocks of shallow conv net\r\n",
        "    \r\n",
        "    def __init__(self, in_channels, num_conv_filters, num_samples_frame, num_eeg_channels,classes):\r\n",
        "    \r\n",
        "        # Defining as a subclass\r\n",
        "        super(ShallowConv, self).__init__()\r\n",
        "\r\n",
        "        self.num_samples_frame = num_samples_frame\r\n",
        "        self.num_conv_filters = num_conv_filters\r\n",
        "        self.num_eeg_channels = num_eeg_channels\r\n",
        "        \r\n",
        "        # Define the convolution layer, https://pytorch.org/docs/stable/generated/torch.nn.Conv2d.html\r\n",
        "        self.conv1 = nn.Conv2d(in_channels, self.num_conv_filters, (1, 25), stride=1)\r\n",
        "        self.conv_output_width =  int(self.num_samples_frame - (25-1) - 1 + 1)\r\n",
        "        \r\n",
        "        # Define the 2d batchnorm layer\r\n",
        "        self.bnorm2d = nn.BatchNorm2d(self.num_conv_filters)\r\n",
        "        \r\n",
        "        # Define the 1d batchnorm layer\r\n",
        "        self.bnorm1d = nn.BatchNorm1d(self.num_conv_filters)\r\n",
        "\r\n",
        "\r\n",
        "        # Define the fc layer, https://pytorch.org/docs/stable/generated/torch.nn.Linear.html\r\n",
        "        self.fc1 = nn.Linear(self.num_eeg_channels*self.num_conv_filters, self.num_conv_filters)\r\n",
        "        \r\n",
        "        # Define the elu activation\r\n",
        "        self.elu = nn.ELU(0.2)\r\n",
        "\r\n",
        "        # Define the avg pooling layer\r\n",
        "        self.avgpool = nn.AvgPool1d(75, stride=15)\r\n",
        "        \r\n",
        "        self.num_features_linear = int(np.floor(((self.conv_output_width - 75)/15)+1))\r\n",
        "        \r\n",
        "        \r\n",
        "\r\n",
        "        # Define the fc layer for generating the scores for classes \r\n",
        "        self.fc2 = nn.Linear(self.num_features_linear*self.num_conv_filters, classes)\r\n",
        "\r\n",
        "        # Define the softmax layer for converting the class scores to probabilities\r\n",
        "        self.softmax = nn.Softmax(dim=1)\r\n",
        "        \r\n",
        "    # Defining the connections of shallow conv net\r\n",
        "    \r\n",
        "    def forward(self, x):\r\n",
        "        \r\n",
        "        # Reshaping the input for 2-D convolution (B,22,num_samples_frame) -> (B,1,22,num_samples_frame)\r\n",
        "        \r\n",
        "        x = x.view(-1, 1, 22, self.num_samples_frame)\r\n",
        "        \r\n",
        "        # Performing the 2-D convolution (B,1,22,300) -> (B,40,22,x_shape_4dim)\r\n",
        "        \r\n",
        "        x = self.conv1(x)\r\n",
        "        x_shape_4dim = x.shape[3]\r\n",
        "        \r\n",
        "        # ELU activation\r\n",
        "        \r\n",
        "        x = self.elu(x)\r\n",
        "        \r\n",
        "        # 2d Batch normalization\r\n",
        "        \r\n",
        "        x = self.bnorm2d(x)\r\n",
        "        \r\n",
        "        \r\n",
        "        # Reshaping the input to dense layer (B,40,22,x_shape_4dim) -> (B,x_shape_4dim,880)\r\n",
        "        \r\n",
        "        x = x.permute(0,3,1,2) # (B,40,22,x_shape_4dim) -> (B,x_shape_4dim,40,22)\r\n",
        "        x = x.view(-1,x_shape_4dim,880)\r\n",
        "        \r\n",
        "        # Passing through the dense layer (B,x_shape_4dim,880) -> (B,x_shape_4dim,40)\r\n",
        "        \r\n",
        "        x = self.fc1(x)\r\n",
        "        \r\n",
        "        # ELU activation\r\n",
        "        \r\n",
        "        x = self.elu(x)\r\n",
        "        \r\n",
        "        # Square activation\r\n",
        "        \r\n",
        "        x = torch.square(x)\r\n",
        "        \r\n",
        "        # Reshaping the input for average pooling layer (B,x_shape_4dim,40) -> (B,40,x_shape_4dim)\r\n",
        "        \r\n",
        "        x = x.permute(0,2,1)\r\n",
        "        \r\n",
        "        # Passing through the average pooling layer (B,40,x_shape_4dim) -> (B,40,x_pool_3dim)\r\n",
        "        \r\n",
        "        x = self.avgpool(x)\r\n",
        "        x_pool_3dim = x.shape[2]\r\n",
        "        \r\n",
        "        # Log activation\r\n",
        "        \r\n",
        "        x = torch.log(x)\r\n",
        "        \r\n",
        "        # 1D Batch normalization\r\n",
        "        \r\n",
        "        x = self.bnorm1d(x)\r\n",
        "        #print(x.shape)\r\n",
        "        \r\n",
        "        # Reshaping the input to dense layer (B,40,x_pool_3dim) -> (B,40*x_pool_3dim)\r\n",
        "        \r\n",
        "        x = x.reshape(-1, 40*x_pool_3dim)\r\n",
        "        \r\n",
        "        # Passing through the dense layer (B,40*x_pool_3dim) -> (B,classes)\r\n",
        "        \r\n",
        "        x = self.fc2(x)\r\n",
        "        \r\n",
        "        # Passing through the softmax layer\r\n",
        "        \r\n",
        "        x = self.softmax(x)\r\n",
        "        \r\n",
        "        return x\r\n",
        "\r\n",
        "\r\n"
      ],
      "execution_count": 9,
      "outputs": []
    },
    {
      "cell_type": "code",
      "metadata": {
        "id": "CP-IyXp3sCkb"
      },
      "source": [
        "def train_model(model, optimizer, num_epochs):\r\n",
        "    # for each epoch... \r\n",
        "    liveloss = PlotLosses()\r\n",
        "\r\n",
        "    for epoch in range(num_epochs):\r\n",
        "      print('Epoch {}/{}'.format(epoch, num_epochs - 1))\r\n",
        "      print('-' * 10)\r\n",
        "      logs = {}\r\n",
        "\r\n",
        "      # let every epoch go through one training cycle and one validation cycle\r\n",
        "      # TRAINING AND THEN VALIDATION LOOP...\r\n",
        "      for phase in ['train', 'val']:\r\n",
        "        train_loss = 0\r\n",
        "        correct = 0\r\n",
        "        total = 0\r\n",
        "        batch_idx = 0\r\n",
        "\r\n",
        "        start_time = time.time()\r\n",
        "        # first loop is training, second loop through is validation\r\n",
        "        # this conditional section picks out either a train mode or validation mode\r\n",
        "        # depending on where we are in the overall training process\r\n",
        "        # SELECT PROPER MODE- train or val\r\n",
        "        if phase == 'train':\r\n",
        "          for param_group in optimizer.param_groups:\r\n",
        "            print(\"LR\", param_group['lr']) # print out the learning rate\r\n",
        "          model.train()  # Set model to training mode\r\n",
        "        else:\r\n",
        "          model.eval()   # Set model to evaluate mode\r\n",
        "        \r\n",
        "        for inputs, labels in dataloaders[phase]:\r\n",
        "          inputs = inputs.to(device)\r\n",
        "          labels = labels.to(device)\r\n",
        "          batch_idx += 1\r\n",
        "          \r\n",
        "          optimizer.zero_grad()\r\n",
        "          \r\n",
        "          with torch.set_grad_enabled(phase == 'train'):\r\n",
        "          #    the above line says to disable gradient tracking for validation\r\n",
        "          #    which makes sense since the model is in evluation mode and we \r\n",
        "          #    don't want to track gradients for validation)\r\n",
        "            outputs = model(inputs)\r\n",
        "            # compute loss where the loss function will be defined later\r\n",
        "\r\n",
        "            loss = loss_fn(outputs, labels)\r\n",
        "            # backward + optimize only if in training phase\r\n",
        "            if phase == 'train':\r\n",
        "              loss.backward()\r\n",
        "              optimizer.step()\r\n",
        "            train_loss += loss\r\n",
        "            _, predicted = outputs.max(1)\r\n",
        "\r\n",
        "            total += labels.size(0)\r\n",
        "            correct += predicted.eq(labels).sum().item()\r\n",
        "\r\n",
        "        # if phase == 'train':\r\n",
        "        #   if  epoch%5 == 0:\r\n",
        "        #   # prints for training and then validation (since the network will be in either train or eval mode at this point) \r\n",
        "        #     print(\" Training Epoch %d, Total loss %0.6f, iteration time %0.6f\" % (epoch, train_loss, time.time() - start_time))\r\n",
        "\r\n",
        "        # if phase == 'val' and epoch%5 == 0:\r\n",
        "        #   print(\" Validation Epoch %d, Total loss %0.6f, iteration time %0.6f\" % (epoch, train_loss, time.time() - start_time))\r\n",
        "\r\n",
        "\r\n",
        "        prefix = ''\r\n",
        "        if phase == 'val':\r\n",
        "            prefix = 'val_'\r\n",
        "        \r\n",
        "        logs[prefix + 'loss'] = train_loss.item()/(batch_idx)\r\n",
        "        logs[prefix + 'acc'] = correct/total*100.\r\n",
        "\r\n",
        "      liveloss.update(logs)\r\n",
        "      liveloss.send()\r\n",
        "\r\n",
        "    # end of single epoch iteration... repeat of n epochs  \r\n",
        "    return model"
      ],
      "execution_count": 10,
      "outputs": []
    },
    {
      "cell_type": "code",
      "metadata": {
        "id": "F0_2c_gUuHF1"
      },
      "source": [
        "def test(model):\r\n",
        "    dataloader = dataloaders['test']\r\n",
        "    size = len(dataloader.dataset)\r\n",
        "    model.eval()\r\n",
        "    test_loss, correct = 0, 0\r\n",
        "    with torch.no_grad():\r\n",
        "        for X, y in dataloader:\r\n",
        "            X, y = X.to(device), y.to(device)\r\n",
        "            pred = model(X)\r\n",
        "            test_loss += loss_fn(pred, y).item()\r\n",
        "            correct += (pred.argmax(1) == y).type(torch.float).sum().item()\r\n",
        "    test_loss /= size\r\n",
        "    correct /= size\r\n",
        "    print(f\"Test Error: \\n Accuracy: {(100*correct):>0.1f}%, Avg loss: {test_loss:>8f} \\n\")"
      ],
      "execution_count": 11,
      "outputs": []
    },
    {
      "cell_type": "markdown",
      "metadata": {
        "id": "wMsOtEjRtjjl"
      },
      "source": [
        "## Train the Model"
      ]
    },
    {
      "cell_type": "code",
      "metadata": {
        "colab": {
          "base_uri": "https://localhost:8080/"
        },
        "id": "P8y1309QtjIP",
        "outputId": "5c25ae81-e34f-4fc5-e842-b3d3bd16bf85"
      },
      "source": [
        "# define the hyperparamters\r\n",
        "weight_decay = 0.15  # weight decay to alleviate overfiting\r\n",
        "\r\n",
        "model = ShallowConv(in_channels=1, num_conv_filters=40,num_samples_frame=1000,num_eeg_channels=22,classes=4).to(device)\r\n",
        "\r\n",
        "count = count_parameters(model)\r\n",
        "print ('model parameters amount {}'.format(count))\r\n",
        "\r\n",
        "loss_fn = nn.CrossEntropyLoss()\r\n",
        "optimizer = torch.optim.Adam(model.parameters(), lr = 2e-5, weight_decay=weight_decay)"
      ],
      "execution_count": 12,
      "outputs": [
        {
          "output_type": "stream",
          "text": [
            "model parameters amount 46204\n"
          ],
          "name": "stdout"
        }
      ]
    },
    {
      "cell_type": "code",
      "metadata": {
        "colab": {
          "base_uri": "https://localhost:8080/",
          "height": 740
        },
        "id": "eYdmXjjBt18M",
        "outputId": "878a0372-48ac-4905-eadc-3a756088a246"
      },
      "source": [
        "model=train_model(model, optimizer, num_epochs=400)\r\n",
        "test(model)"
      ],
      "execution_count": 13,
      "outputs": [
        {
          "output_type": "display_data",
          "data": {
            "image/png": "[encoded data removed]",
            "text/plain": [
              "<Figure size 864x576 with 2 Axes>"
            ]
          },
          "metadata": {
            "tags": [],
            "needs_background": "light"
          }
        },
        {
          "output_type": "stream",
          "text": [
            "Accuracy\n",
            "\ttraining         \t (min:   29.019, max:  100.000, cur:   99.941)\n",
            "\tvalidation       \t (min:   29.314, max:   71.395, cur:   69.031)\n",
            "Loss\n",
            "\ttraining         \t (min:    0.802, max:    1.379, cur:    0.809)\n",
            "\tvalidation       \t (min:    1.094, max:    1.375, cur:    1.132)\n",
            "Test Error: \n",
            " Accuracy: 65.5%, Avg loss: 0.018062 \n",
            "\n"
          ],
          "name": "stdout"
        }
      ]
    }
  ]
}