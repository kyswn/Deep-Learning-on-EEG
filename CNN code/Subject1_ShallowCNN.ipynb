{
  "nbformat": 4,
  "nbformat_minor": 0,
  "metadata": {
    "colab": {
      "name": "Subject1 ShallowCNN.ipynb",
      "provenance": [],
      "collapsed_sections": [],
      "toc_visible": true
    },
    "kernelspec": {
      "name": "python3",
      "display_name": "Python 3"
    },
    "accelerator": "GPU"
  },
  "cells": [
    {
      "cell_type": "markdown",
      "metadata": {
        "id": "xtRaty2OzoR6"
      },
      "source": [
        "# CNN Applied to EEG Data to classify subject 1 data\r\n"
      ]
    },
    {
      "cell_type": "markdown",
      "metadata": {
        "id": "D7QBDi6az5zq"
      },
      "source": [
        "## Preparation and Loading Data"
      ]
    },
    {
      "cell_type": "code",
      "metadata": {
        "id": "1jt1nKNSz6Ii",
        "colab": {
          "base_uri": "https://localhost:8080/",
          "height": 0
        },
        "outputId": "a4d9bafb-5afa-4fc2-9220-241091f070c8"
      },
      "source": [
        "from google.colab import drive\r\n",
        "drive.mount('/content/drive')"
      ],
      "execution_count": 1,
      "outputs": [
        {
          "output_type": "stream",
          "text": [
            "Mounted at /content/drive\n"
          ],
          "name": "stdout"
        }
      ]
    },
    {
      "cell_type": "code",
      "metadata": {
        "colab": {
          "base_uri": "https://localhost:8080/",
          "height": 34
        },
        "id": "wxr93gf00I1r",
        "outputId": "60fc1d52-182b-4852-9672-3eb747f23eae"
      },
      "source": [
        "%pwd"
      ],
      "execution_count": 2,
      "outputs": [
        {
          "output_type": "execute_result",
          "data": {
            "application/vnd.google.colaboratory.intrinsic+json": {
              "type": "string"
            },
            "text/plain": [
              "'/content'"
            ]
          },
          "metadata": {
            "tags": []
          },
          "execution_count": 2
        }
      ]
    },
    {
      "cell_type": "code",
      "metadata": {
        "colab": {
          "base_uri": "https://localhost:8080/",
          "height": 0
        },
        "id": "3kojpwwV042P",
        "outputId": "97848954-082b-4c2a-e1ce-0560e83b81e4"
      },
      "source": [
        "% cd 'drive/My Drive/ECE C147'\r\n",
        "% cd 'project'\r\n",
        "% ls\r\n"
      ],
      "execution_count": 3,
      "outputs": [
        {
          "output_type": "stream",
          "text": [
            "/content/drive/My Drive/ECE C147\n",
            "/content/drive/My Drive/ECE C147/project\n",
            "EEG_loading.ipynb  person_train_valid.npy  X_train_valid.npy  y_train_valid.npy\n",
            "person_test.npy    X_test.npy              y_test.npy\n"
          ],
          "name": "stdout"
        }
      ]
    },
    {
      "cell_type": "code",
      "metadata": {
        "id": "twAVHjJO1RbA"
      },
      "source": [
        "def count_parameters(model):\r\n",
        "  \"\"\"Function for count model's parameters\"\"\"\r\n",
        "  return sum(p.numel() for p in model.parameters() if p.requires_grad)"
      ],
      "execution_count": 4,
      "outputs": []
    },
    {
      "cell_type": "code",
      "metadata": {
        "colab": {
          "base_uri": "https://localhost:8080/",
          "height": 0
        },
        "id": "WPfULtUM1Sau",
        "outputId": "dce43d20-7669-44e6-8592-dffdee83c405"
      },
      "source": [
        "import numpy as np\r\n",
        "import torch\r\n",
        "import torch.nn as nn\r\n",
        "from torch.utils.data import Dataset, DataLoader, TensorDataset, random_split\r\n",
        "from torchvision import transforms, utils\r\n",
        "import time\r\n",
        "\r\n",
        "# specific package for visualization\r\n",
        "!pip install livelossplot --quiet\r\n",
        "from livelossplot import PlotLosses\r\n",
        "\r\n",
        "# get the device type of machine\r\n",
        "device = torch.device('cuda' if torch.cuda.is_available() else 'cpu')\r\n",
        "# device = 'cpu'\r\n",
        "print(device)"
      ],
      "execution_count": 5,
      "outputs": [
        {
          "output_type": "stream",
          "text": [
            "cuda\n"
          ],
          "name": "stdout"
        }
      ]
    },
    {
      "cell_type": "code",
      "metadata": {
        "colab": {
          "base_uri": "https://localhost:8080/",
          "height": 0
        },
        "id": "mDTpL5lENCHy",
        "outputId": "648b2c76-e7e7-4823-9046-69cc8495cea6"
      },
      "source": [
        "X_test = np.load(\"X_test.npy\")\r\n",
        "y_test = np.load(\"y_test.npy\")\r\n",
        "person_train_valid = np.load(\"person_train_valid.npy\")\r\n",
        "X_train_valid = np.load(\"X_train_valid.npy\")\r\n",
        "y_train_valid = np.load(\"y_train_valid.npy\")\r\n",
        "person_test = np.load(\"person_test.npy\")\r\n",
        "\r\n",
        "\r\n",
        "# adjust labels \r\n",
        "y_train_valid -= 769\r\n",
        "y_test -= 769\r\n",
        "\r\n",
        "\r\n",
        "print('y_train_valid', y_train_valid[:10])"
      ],
      "execution_count": 9,
      "outputs": [
        {
          "output_type": "stream",
          "text": [
            "y_train_valid [2 3 0 0 0 0 2 1 3 3]\n"
          ],
          "name": "stdout"
        }
      ]
    },
    {
      "cell_type": "code",
      "metadata": {
        "colab": {
          "base_uri": "https://localhost:8080/",
          "height": 0
        },
        "id": "uNQEYuJCNxCz",
        "outputId": "f7f0c6fb-a6ec-473c-db37-3278197912ea"
      },
      "source": [
        "#filter data for subject 1 only\r\n",
        "\r\n",
        "train_val_subject1_idx =  []\r\n",
        "for i, n in enumerate(person_train_valid):\r\n",
        "  if n==0:\r\n",
        "    train_val_subject1_idx.append(i)\r\n",
        "X_train_val_subject1 = X_train_valid[train_val_subject1_idx]\r\n",
        "y_train_val_subject1 = y_train_valid[train_val_subject1_idx]\r\n",
        "print(len(y_train_val_subject1))\r\n",
        "test_subject1_index = []\r\n",
        "for i, n in enumerate(person_test):\r\n",
        "  if n==0:\r\n",
        "    test_subject1_index.append(i)\r\n",
        "print(test_subject1_index)\r\n",
        "X_test_subject1 = X_test[test_subject1_index]\r\n",
        "y_test_subject1 = y_test[test_subject1_index]\r\n",
        "print(len(y_test_subject1))"
      ],
      "execution_count": 44,
      "outputs": [
        {
          "output_type": "stream",
          "text": [
            "237\n",
            "[0, 1, 2, 3, 4, 5, 6, 7, 8, 9, 10, 11, 12, 13, 14, 15, 16, 17, 18, 19, 20, 21, 22, 23, 24, 25, 26, 27, 28, 29, 30, 31, 32, 33, 34, 35, 36, 37, 38, 39, 40, 41, 42, 43, 44, 45, 46, 47, 48, 49]\n",
            "50\n"
          ],
          "name": "stdout"
        }
      ]
    },
    {
      "cell_type": "code",
      "metadata": {
        "id": "LC77bF412DbC"
      },
      "source": [
        "\r\n",
        "\r\n",
        "# copy numpy data to tensor\r\n",
        "\r\n",
        "X_train_valid_tensor = torch.from_numpy(X_train_valid).float().to(device)\r\n",
        "X_train_valid_s1_tensor = torch.from_numpy(X_train_val_subject1).float().to(device)\r\n",
        "y_train_valid_tensor = torch.from_numpy(y_train_valid).float().long().to(device) # do not forget .long()\r\n",
        "y_train_valid_s1_tensor = torch.from_numpy(y_train_val_subject1).float().long().to(device)\r\n",
        "X_test_tensor = torch.from_numpy(X_test_subject1).float().to(device)\r\n",
        "y_test_tensor = torch.from_numpy(y_test_subject1).float().long().to(device)\r\n",
        "\r\n",
        "\r\n",
        "# # convert int labels to one hot labels\r\n",
        "# y_train_valid_tensor = nn.functional.one_hot(y_train_valid_tensor)\r\n",
        "# print('y_train_valid_onehot', y_train_valid_tensor[:10])"
      ],
      "execution_count": 45,
      "outputs": []
    },
    {
      "cell_type": "code",
      "metadata": {
        "colab": {
          "base_uri": "https://localhost:8080/",
          "height": 0
        },
        "id": "UEhGSsvu2Qty",
        "outputId": "b6d6e52f-c73b-4b67-8811-315dd67a417d"
      },
      "source": [
        "print ('Training/Valid data shape: {}'.format(X_train_valid.shape))\r\n",
        "print ('Training/Valid for s1 data shape: {}'.format(X_train_val_subject1.shape))\r\n",
        "print ('Test data shape: {}'.format(X_test_subject1.shape))\r\n",
        "print ('Training/Valid target shape: {}'.format(y_train_valid.shape))\r\n",
        "print ('Training/Valid for s1 target shape: {}'.format(y_train_val_subject1.shape))\r\n",
        "print ('Test target shape: {}'.format(y_test_subject1.shape))\r\n",
        "#print ('Person train/valid shape: {}'.format(person_train_valid.shape))\r\n",
        "#print ('Person test shape: {}'.format(person_test.shape))"
      ],
      "execution_count": 46,
      "outputs": [
        {
          "output_type": "stream",
          "text": [
            "Training/Valid data shape: (2115, 22, 1000)\n",
            "Training/Valid for s1 data shape: (237, 22, 1000)\n",
            "Test data shape: (50, 22, 1000)\n",
            "Training/Valid target shape: (2115,)\n",
            "Training/Valid for s1 target shape: (237,)\n",
            "Test target shape: (50,)\n"
          ],
          "name": "stdout"
        }
      ]
    },
    {
      "cell_type": "code",
      "metadata": {
        "id": "RzAno7Ir35pR",
        "colab": {
          "base_uri": "https://localhost:8080/",
          "height": 0
        },
        "outputId": "3947df9e-e2da-4acb-a5bf-0c00adfbc995"
      },
      "source": [
        "class EEGDataset(Dataset):\r\n",
        "    \"\"\"EEG dataset.\"\"\"\r\n",
        "    def __init__(self, subset, transform=None):\r\n",
        "        self.subset = subset\r\n",
        "        self.transform = transform\r\n",
        "        \r\n",
        "    def __getitem__(self, index):\r\n",
        "        x, y = self.subset[index]\r\n",
        "        if self.transform:\r\n",
        "          pass \r\n",
        "            # x = self.transform(x)\r\n",
        "            # y = self.transform(y)\r\n",
        "        return x, y\r\n",
        "        \r\n",
        "    def __len__(self):\r\n",
        "        return len(self.subset)\r\n",
        "\r\n",
        "init_dataset = TensorDataset(X_train_valid_tensor, y_train_valid_tensor) \r\n",
        "init_s1_dataset = TensorDataset(X_train_valid_s1_tensor,y_train_valid_s1_tensor)\r\n",
        "test_dataset = TensorDataset(X_test_tensor,y_test_tensor)\r\n",
        "# split train and val\r\n",
        "lengths = [int(len(init_dataset)*0.8), int(len(init_dataset)*0.2)] \r\n",
        "print(lengths)\r\n",
        "subset_train, subset_val = random_split(init_dataset, lengths) \r\n",
        "lengths_s1 = [int(len(init_s1_dataset)*0.8), 237-int(len(init_s1_dataset)*0.8)] \r\n",
        "print(lengths_s1)\r\n",
        "subset_train_s1,subset_val_s1 = random_split(init_s1_dataset,lengths_s1)\r\n",
        "train_data = EEGDataset(\r\n",
        "    subset_train, transform=None)\r\n",
        "\r\n",
        "\r\n",
        "val_data = EEGDataset(\r\n",
        "    subset_val, transform=None)\r\n",
        "\r\n",
        "train_data_s1 = EEGDataset(subset_train_s1,transform=None)\r\n",
        "val_data_s1 = EEGDataset(subset_val_s1,transform=None)\r\n",
        "\r\n",
        "test_data=EEGDataset(test_dataset,transform=None)\r\n",
        "\r\n",
        "dataloaders = {\r\n",
        "    'train': torch.utils.data.DataLoader(train_data, batch_size=32, shuffle=True, num_workers=0),\r\n",
        "    'val': torch.utils.data.DataLoader(val_data, batch_size=32, shuffle=True, num_workers=0),\r\n",
        "    'train_s1': torch.utils.data.DataLoader(train_data_s1, batch_size=32, shuffle=True, num_workers=0),\r\n",
        "    'val_s1': torch.utils.data.DataLoader(val_data_s1, batch_size=32, shuffle=True, num_workers=0),\r\n",
        "    'test':torch.utils.data.DataLoader(test_data, batch_size=64, shuffle=False, num_workers=0)\r\n",
        "}"
      ],
      "execution_count": 47,
      "outputs": [
        {
          "output_type": "stream",
          "text": [
            "[1692, 423]\n",
            "[189, 48]\n"
          ],
          "name": "stdout"
        }
      ]
    },
    {
      "cell_type": "markdown",
      "metadata": {
        "id": "CHDvcMnX4DtN"
      },
      "source": [
        "## Model"
      ]
    },
    {
      "cell_type": "code",
      "metadata": {
        "id": "iwjrA-Ou38Cr"
      },
      "source": [
        "class ShallowConv(nn.Module):\r\n",
        "    \r\n",
        "    # Defining the building blocks of shallow conv net\r\n",
        "    \r\n",
        "    def __init__(self, in_channels, num_conv_filters, num_samples_frame, num_eeg_channels,classes):\r\n",
        "    \r\n",
        "        # Defining as a subclass\r\n",
        "        super(ShallowConv, self).__init__()\r\n",
        "\r\n",
        "        self.num_samples_frame = num_samples_frame\r\n",
        "        self.num_conv_filters = num_conv_filters\r\n",
        "        self.num_eeg_channels = num_eeg_channels\r\n",
        "        \r\n",
        "        # Define the convolution layer, https://pytorch.org/docs/stable/generated/torch.nn.Conv2d.html\r\n",
        "        self.conv1 = nn.Conv2d(in_channels, self.num_conv_filters, (1, 25), stride=1)\r\n",
        "        self.conv_output_width =  int(self.num_samples_frame - (25-1) - 1 + 1)\r\n",
        "        \r\n",
        "        # Define the 2d batchnorm layer\r\n",
        "        self.bnorm2d = nn.BatchNorm2d(self.num_conv_filters)\r\n",
        "        \r\n",
        "        # Define the 1d batchnorm layer\r\n",
        "        self.bnorm1d = nn.BatchNorm1d(self.num_conv_filters)\r\n",
        "\r\n",
        "\r\n",
        "        # Define the fc layer, https://pytorch.org/docs/stable/generated/torch.nn.Linear.html\r\n",
        "        self.fc1 = nn.Linear(self.num_eeg_channels*self.num_conv_filters, self.num_conv_filters)\r\n",
        "        \r\n",
        "        # Define the elu activation\r\n",
        "        self.elu = nn.ELU(0.2)\r\n",
        "\r\n",
        "        # Define the avg pooling layer\r\n",
        "        self.avgpool = nn.AvgPool1d(75, stride=15)\r\n",
        "        \r\n",
        "        self.num_features_linear = int(np.floor(((self.conv_output_width - 75)/15)+1))\r\n",
        "        \r\n",
        "        \r\n",
        "\r\n",
        "        # Define the fc layer for generating the scores for classes \r\n",
        "        self.fc2 = nn.Linear(self.num_features_linear*self.num_conv_filters, classes)\r\n",
        "\r\n",
        "        # Define the softmax layer for converting the class scores to probabilities\r\n",
        "        self.softmax = nn.Softmax(dim=1)\r\n",
        "        \r\n",
        "    # Defining the connections of shallow conv net\r\n",
        "    \r\n",
        "    def forward(self, x):\r\n",
        "        \r\n",
        "        # Reshaping the input for 2-D convolution (B,22,num_samples_frame) -> (B,1,22,num_samples_frame)\r\n",
        "        \r\n",
        "        x = x.view(-1, 1, 22, self.num_samples_frame)\r\n",
        "        \r\n",
        "        # Performing the 2-D convolution (B,1,22,300) -> (B,40,22,x_shape_4dim)\r\n",
        "        \r\n",
        "        x = self.conv1(x)\r\n",
        "        x_shape_4dim = x.shape[3]\r\n",
        "        \r\n",
        "        # ELU activation\r\n",
        "        \r\n",
        "        x = self.elu(x)\r\n",
        "        \r\n",
        "        # 2d Batch normalization\r\n",
        "        \r\n",
        "        x = self.bnorm2d(x)\r\n",
        "        \r\n",
        "        \r\n",
        "        # Reshaping the input to dense layer (B,40,22,x_shape_4dim) -> (B,x_shape_4dim,880)\r\n",
        "        \r\n",
        "        x = x.permute(0,3,1,2) # (B,40,22,x_shape_4dim) -> (B,x_shape_4dim,40,22)\r\n",
        "        x = x.view(-1,x_shape_4dim,880)\r\n",
        "        \r\n",
        "        # Passing through the dense layer (B,x_shape_4dim,880) -> (B,x_shape_4dim,40)\r\n",
        "        \r\n",
        "        x = self.fc1(x)\r\n",
        "        \r\n",
        "        # ELU activation\r\n",
        "        \r\n",
        "        x = self.elu(x)\r\n",
        "        \r\n",
        "        # Square activation\r\n",
        "        \r\n",
        "        x = torch.square(x)\r\n",
        "        \r\n",
        "        # Reshaping the input for average pooling layer (B,x_shape_4dim,40) -> (B,40,x_shape_4dim)\r\n",
        "        \r\n",
        "        x = x.permute(0,2,1)\r\n",
        "        \r\n",
        "        # Passing through the average pooling layer (B,40,x_shape_4dim) -> (B,40,x_pool_3dim)\r\n",
        "        \r\n",
        "        x = self.avgpool(x)\r\n",
        "        x_pool_3dim = x.shape[2]\r\n",
        "        \r\n",
        "        # Log activation\r\n",
        "        \r\n",
        "        x = torch.log(x)\r\n",
        "        \r\n",
        "        # 1D Batch normalization\r\n",
        "        \r\n",
        "        x = self.bnorm1d(x)\r\n",
        "        #print(x.shape)\r\n",
        "        \r\n",
        "        # Reshaping the input to dense layer (B,40,x_pool_3dim) -> (B,40*x_pool_3dim)\r\n",
        "        \r\n",
        "        x = x.reshape(-1, 40*x_pool_3dim)\r\n",
        "        \r\n",
        "        # Passing through the dense layer (B,40*x_pool_3dim) -> (B,classes)\r\n",
        "        \r\n",
        "        x = self.fc2(x)\r\n",
        "        \r\n",
        "        # Passing through the softmax layer\r\n",
        "        \r\n",
        "        x = self.softmax(x)\r\n",
        "        \r\n",
        "        return x\r\n",
        "\r\n",
        "\r\n"
      ],
      "execution_count": 48,
      "outputs": []
    },
    {
      "cell_type": "code",
      "metadata": {
        "id": "CP-IyXp3sCkb"
      },
      "source": [
        "## train a model to classify subject1 with data from all subjects\r\n",
        "def train_model_with_alldata(model, optimizer, num_epochs):\r\n",
        "    # for each epoch... \r\n",
        "    liveloss = PlotLosses()\r\n",
        "\r\n",
        "    for epoch in range(num_epochs):\r\n",
        "      print('Epoch {}/{}'.format(epoch, num_epochs - 1))\r\n",
        "      print('-' * 10)\r\n",
        "      logs = {}\r\n",
        "\r\n",
        "      # let every epoch go through one training cycle and one validation cycle\r\n",
        "      # TRAINING AND THEN VALIDATION LOOP...\r\n",
        "      for phase in ['train', 'val']:\r\n",
        "        train_loss = 0\r\n",
        "        correct = 0\r\n",
        "        total = 0\r\n",
        "        batch_idx = 0\r\n",
        "\r\n",
        "        start_time = time.time()\r\n",
        "        # first loop is training, second loop through is validation\r\n",
        "        # this conditional section picks out either a train mode or validation mode\r\n",
        "        # depending on where we are in the overall training process\r\n",
        "        # SELECT PROPER MODE- train or val\r\n",
        "        if phase == 'train':\r\n",
        "          for param_group in optimizer.param_groups:\r\n",
        "            print(\"LR\", param_group['lr']) # print out the learning rate\r\n",
        "          model.train()  # Set model to training mode\r\n",
        "        else:\r\n",
        "          model.eval()   # Set model to evaluate mode\r\n",
        "        \r\n",
        "        for inputs, labels in dataloaders[phase]:\r\n",
        "          inputs = inputs.to(device)\r\n",
        "          labels = labels.to(device)\r\n",
        "          batch_idx += 1\r\n",
        "          \r\n",
        "          optimizer.zero_grad()\r\n",
        "          \r\n",
        "          with torch.set_grad_enabled(phase == 'train'):\r\n",
        "          #    the above line says to disable gradient tracking for validation\r\n",
        "          #    which makes sense since the model is in evluation mode and we \r\n",
        "          #    don't want to track gradients for validation)\r\n",
        "            outputs = model(inputs)\r\n",
        "            # compute loss where the loss function will be defined later\r\n",
        "\r\n",
        "            loss = loss_fn(outputs, labels)\r\n",
        "            # backward + optimize only if in training phase\r\n",
        "            if phase == 'train':\r\n",
        "              loss.backward()\r\n",
        "              optimizer.step()\r\n",
        "            train_loss += loss\r\n",
        "            _, predicted = outputs.max(1)\r\n",
        "\r\n",
        "            total += labels.size(0)\r\n",
        "            correct += predicted.eq(labels).sum().item()\r\n",
        "\r\n",
        "        # if phase == 'train':\r\n",
        "        #   if  epoch%5 == 0:\r\n",
        "        #   # prints for training and then validation (since the network will be in either train or eval mode at this point) \r\n",
        "        #     print(\" Training Epoch %d, Total loss %0.6f, iteration time %0.6f\" % (epoch, train_loss, time.time() - start_time))\r\n",
        "\r\n",
        "        # if phase == 'val' and epoch%5 == 0:\r\n",
        "        #   print(\" Validation Epoch %d, Total loss %0.6f, iteration time %0.6f\" % (epoch, train_loss, time.time() - start_time))\r\n",
        "\r\n",
        "\r\n",
        "        prefix = ''\r\n",
        "        if phase == 'val':\r\n",
        "            prefix = 'val_'\r\n",
        "        \r\n",
        "        logs[prefix + 'loss'] = train_loss.item()/(batch_idx)\r\n",
        "        logs[prefix + 'acc'] = correct/total*100.\r\n",
        "\r\n",
        "      liveloss.update(logs)\r\n",
        "      liveloss.send()\r\n",
        "\r\n",
        "    # end of single epoch iteration... repeat of n epochs  \r\n",
        "    return model"
      ],
      "execution_count": 49,
      "outputs": []
    },
    {
      "cell_type": "code",
      "metadata": {
        "id": "RNQseT3rcuJ5"
      },
      "source": [
        "# train a model to classify subject 1 data with only subject 1 data\r\n",
        "\r\n",
        "def train_model_with_s1data(model, optimizer, num_epochs):\r\n",
        "    # for each epoch... \r\n",
        "    liveloss = PlotLosses()\r\n",
        "\r\n",
        "    for epoch in range(num_epochs):\r\n",
        "      print('Epoch {}/{}'.format(epoch, num_epochs - 1))\r\n",
        "      print('-' * 10)\r\n",
        "      logs = {}\r\n",
        "\r\n",
        "      # let every epoch go through one training cycle and one validation cycle\r\n",
        "      # TRAINING AND THEN VALIDATION LOOP...\r\n",
        "      for phase in ['train_s1', 'val_s1']:\r\n",
        "        train_loss = 0\r\n",
        "        correct = 0\r\n",
        "        total = 0\r\n",
        "        batch_idx = 0\r\n",
        "\r\n",
        "        start_time = time.time()\r\n",
        "        # first loop is training, second loop through is validation\r\n",
        "        # this conditional section picks out either a train mode or validation mode\r\n",
        "        # depending on where we are in the overall training process\r\n",
        "        # SELECT PROPER MODE- train or val\r\n",
        "        if phase == 'train_s1':\r\n",
        "          for param_group in optimizer.param_groups:\r\n",
        "            print(\"LR\", param_group['lr']) # print out the learning rate\r\n",
        "          model.train()  # Set model to training mode\r\n",
        "        else:\r\n",
        "          model.eval()   # Set model to evaluate mode\r\n",
        "        \r\n",
        "        for inputs, labels in dataloaders[phase]:\r\n",
        "          #print(inputs.size())\r\n",
        "          #print(labels.size())\r\n",
        "          inputs = inputs.to(device)\r\n",
        "          labels = labels.to(device)\r\n",
        "          batch_idx += 1\r\n",
        "          \r\n",
        "          optimizer.zero_grad()\r\n",
        "          \r\n",
        "          with torch.set_grad_enabled(phase == 'train_s1'):\r\n",
        "          #    the above line says to disable gradient tracking for validation\r\n",
        "          #    which makes sense since the model is in evluation mode and we \r\n",
        "          #    don't want to track gradients for validation)\r\n",
        "            outputs = model(inputs)\r\n",
        "            # compute loss where the loss function will be defined later\r\n",
        "            #print(outputs.size())\r\n",
        "            \r\n",
        "\r\n",
        "\r\n",
        "\r\n",
        "            loss = loss_fn(outputs, labels)\r\n",
        "            # backward + optimize only if in training phase\r\n",
        "            if phase == 'train_s1':\r\n",
        "              loss.backward()\r\n",
        "              optimizer.step()\r\n",
        "            train_loss += loss\r\n",
        "            _, predicted = outputs.max(1)\r\n",
        "\r\n",
        "            total += labels.size(0)\r\n",
        "            correct += predicted.eq(labels).sum().item()\r\n",
        "\r\n",
        "        # if phase == 'train':\r\n",
        "        #   if  epoch%5 == 0:\r\n",
        "        #   # prints for training and then validation (since the network will be in either train or eval mode at this point) \r\n",
        "        #     print(\" Training Epoch %d, Total loss %0.6f, iteration time %0.6f\" % (epoch, train_loss, time.time() - start_time))\r\n",
        "\r\n",
        "        # if phase == 'val' and epoch%5 == 0:\r\n",
        "        #   print(\" Validation Epoch %d, Total loss %0.6f, iteration time %0.6f\" % (epoch, train_loss, time.time() - start_time))\r\n",
        "\r\n",
        "\r\n",
        "        prefix = ''\r\n",
        "        if phase == 'val_s1':\r\n",
        "            prefix = 'val_'\r\n",
        "        \r\n",
        "        logs[prefix + 'loss'] = train_loss.item()/(batch_idx)\r\n",
        "        logs[prefix + 'acc'] = correct/total*100.\r\n",
        "\r\n",
        "      liveloss.update(logs)\r\n",
        "      liveloss.send()\r\n",
        "\r\n",
        "    # end of single epoch iteration... repeat of n epochs  \r\n",
        "    return model"
      ],
      "execution_count": 62,
      "outputs": []
    },
    {
      "cell_type": "code",
      "metadata": {
        "id": "F0_2c_gUuHF1"
      },
      "source": [
        "def test(model):\r\n",
        "    dataloader = dataloaders['test']\r\n",
        "    size = len(dataloader.dataset)\r\n",
        "    model.eval()\r\n",
        "    test_loss, correct = 0, 0\r\n",
        "    with torch.no_grad():\r\n",
        "        for X, y in dataloader:\r\n",
        "            X, y = X.to(device), y.to(device)\r\n",
        "            pred = model(X)\r\n",
        "            test_loss += loss_fn(pred, y).item()\r\n",
        "            correct += (pred.argmax(1) == y).type(torch.float).sum().item()\r\n",
        "    test_loss /= size\r\n",
        "    correct /= size\r\n",
        "    print(f\"Test Error: \\n Accuracy: {(100*correct):>0.1f}%, Avg loss: {test_loss:>8f} \\n\")"
      ],
      "execution_count": 63,
      "outputs": []
    },
    {
      "cell_type": "markdown",
      "metadata": {
        "id": "wMsOtEjRtjjl"
      },
      "source": [
        "## Train the Model with only subject 1 data and then classify subject 1 data"
      ]
    },
    {
      "cell_type": "code",
      "metadata": {
        "colab": {
          "base_uri": "https://localhost:8080/",
          "height": 0
        },
        "id": "P8y1309QtjIP",
        "outputId": "2a63d8be-6a1b-4d83-fbb8-39d8fd4697b3"
      },
      "source": [
        "# define the hyperparamters\r\n",
        "weight_decay = 0.15  # weight decay to alleviate overfiting\r\n",
        "\r\n",
        "model = ShallowConv(in_channels=1, num_conv_filters=40,num_samples_frame=1000,num_eeg_channels=22,classes=4).to(device)\r\n",
        "\r\n",
        "count = count_parameters(model)\r\n",
        "print ('model parameters amount {}'.format(count))\r\n",
        "\r\n",
        "loss_fn = nn.CrossEntropyLoss()\r\n",
        "optimizer = torch.optim.Adam(model.parameters(), lr = 2e-5, weight_decay=weight_decay)"
      ],
      "execution_count": 68,
      "outputs": [
        {
          "output_type": "stream",
          "text": [
            "model parameters amount 46204\n"
          ],
          "name": "stdout"
        }
      ]
    },
    {
      "cell_type": "code",
      "metadata": {
        "colab": {
          "base_uri": "https://localhost:8080/",
          "height": 740
        },
        "id": "eYdmXjjBt18M",
        "outputId": "9b1cbd6d-8910-4e4b-a08f-caa0f45485bf"
      },
      "source": [
        "model=train_model_with_s1data(model, optimizer, num_epochs=700)\r\n",
        "test(model)"
      ],
      "execution_count": 69,
      "outputs": [
        {
          "output_type": "display_data",
          "data": {
            "image/png": "[encoded data removed]",
            "text/plain": [
              "<Figure size 864x576 with 2 Axes>"
            ]
          },
          "metadata": {
            "tags": [],
            "needs_background": "light"
          }
        },
        {
          "output_type": "stream",
          "text": [
            "Accuracy\n",
            "\ttraining         \t (min:   23.810, max:  100.000, cur:  100.000)\n",
            "\tvalidation       \t (min:   31.250, max:   85.417, cur:   83.333)\n",
            "Loss\n",
            "\ttraining         \t (min:    0.748, max:    1.399, cur:    0.750)\n",
            "\tvalidation       \t (min:    1.011, max:    1.390, cur:    1.070)\n",
            "Test Error: \n",
            " Accuracy: 64.0%, Avg loss: 0.021682 \n",
            "\n"
          ],
          "name": "stdout"
        }
      ]
    },
    {
      "cell_type": "markdown",
      "metadata": {
        "id": "RbgCfoUJtaj3"
      },
      "source": [
        "## Train the model with all data and then then classify subject 1 data"
      ]
    },
    {
      "cell_type": "code",
      "metadata": {
        "colab": {
          "base_uri": "https://localhost:8080/",
          "height": 0
        },
        "id": "8JD3BKW4taEY",
        "outputId": "c634bb32-6047-480d-8704-01b880b13b2b"
      },
      "source": [
        "weight_decay = 0.15  # weight decay to alleviate overfiting\r\n",
        "\r\n",
        "model = ShallowConv(in_channels=1, num_conv_filters=40,num_samples_frame=1000,num_eeg_channels=22,classes=4).to(device)\r\n",
        "\r\n",
        "count = count_parameters(model)\r\n",
        "print ('model parameters amount {}'.format(count))\r\n",
        "\r\n",
        "loss_fn = nn.CrossEntropyLoss()\r\n",
        "optimizer = torch.optim.Adam(model.parameters(), lr = 1e-4, weight_decay=weight_decay)"
      ],
      "execution_count": 73,
      "outputs": [
        {
          "output_type": "stream",
          "text": [
            "model parameters amount 46204\n"
          ],
          "name": "stdout"
        }
      ]
    },
    {
      "cell_type": "code",
      "metadata": {
        "colab": {
          "base_uri": "https://localhost:8080/",
          "height": 740
        },
        "id": "Nl4bg3CUtzp6",
        "outputId": "4f5f0ef3-1cb7-4ee7-fd63-17fe62f29457"
      },
      "source": [
        "model=train_model_with_alldata(model, optimizer, num_epochs=200)\r\n",
        "test(model)"
      ],
      "execution_count": 74,
      "outputs": [
        {
          "output_type": "display_data",
          "data": {
            "image/png": "[encoded data removed]",
            "text/plain": [
              "<Figure size 864x576 with 2 Axes>"
            ]
          },
          "metadata": {
            "tags": [],
            "needs_background": "light"
          }
        },
        {
          "output_type": "stream",
          "text": [
            "Accuracy\n",
            "\ttraining         \t (min:   29.610, max:   99.173, cur:   95.154)\n",
            "\tvalidation       \t (min:   35.697, max:   72.104, cur:   65.957)\n",
            "Loss\n",
            "\ttraining         \t (min:    0.848, max:    1.369, cur:    1.009)\n",
            "\tvalidation       \t (min:    1.093, max:    1.351, cur:    1.179)\n",
            "Test Error: \n",
            " Accuracy: 78.0%, Avg loss: 0.023357 \n",
            "\n"
          ],
          "name": "stdout"
        }
      ]
    }
  ]
}