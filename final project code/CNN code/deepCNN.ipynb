{
  "nbformat": 4,
  "nbformat_minor": 0,
  "metadata": {
    "colab": {
      "name": "deepCNN.ipynb",
      "provenance": [],
      "collapsed_sections": []
    },
    "kernelspec": {
      "name": "python3",
      "display_name": "Python 3"
    },
    "accelerator": "GPU"
  },
  "cells": [
    {
      "cell_type": "markdown",
      "metadata": {
        "id": "xtRaty2OzoR6"
      },
      "source": [
        "# CNN Applied to EEG Data\r\n"
      ]
    },
    {
      "cell_type": "markdown",
      "metadata": {
        "id": "D7QBDi6az5zq"
      },
      "source": [
        "## Preparation and Loading Data"
      ]
    },
    {
      "cell_type": "code",
      "metadata": {
        "id": "1jt1nKNSz6Ii",
        "colab": {
          "base_uri": "https://localhost:8080/",
          "height": 0
        },
        "outputId": "04e753d1-76f6-451f-b612-5d2f7751da97"
      },
      "source": [
        "from google.colab import drive\r\n",
        "drive.mount('/content/drive')"
      ],
      "execution_count": 9,
      "outputs": [
        {
          "output_type": "stream",
          "text": [
            "Drive already mounted at /content/drive; to attempt to forcibly remount, call drive.mount(\"/content/drive\", force_remount=True).\n"
          ],
          "name": "stdout"
        }
      ]
    },
    {
      "cell_type": "code",
      "metadata": {
        "colab": {
          "base_uri": "https://localhost:8080/",
          "height": 34
        },
        "id": "wxr93gf00I1r",
        "outputId": "e7b866c6-a688-4425-8dfd-dc21f6f12270"
      },
      "source": [
        "%pwd"
      ],
      "execution_count": 10,
      "outputs": [
        {
          "output_type": "execute_result",
          "data": {
            "application/vnd.google.colaboratory.intrinsic+json": {
              "type": "string"
            },
            "text/plain": [
              "'/content/drive/My Drive/ECE C147/project'"
            ]
          },
          "metadata": {
            "tags": []
          },
          "execution_count": 10
        }
      ]
    },
    {
      "cell_type": "code",
      "metadata": {
        "colab": {
          "base_uri": "https://localhost:8080/",
          "height": 0
        },
        "id": "3kojpwwV042P",
        "outputId": "abb7542f-9b29-4eb9-d215-a389669bc9eb"
      },
      "source": [
        "% cd 'drive/My Drive/ECE C147'\r\n",
        "% cd 'project'\r\n",
        "% ls\r\n"
      ],
      "execution_count": 11,
      "outputs": [
        {
          "output_type": "stream",
          "text": [
            "[Errno 2] No such file or directory: 'drive/My Drive/ECE C147'\n",
            "/content/drive/My Drive/ECE C147/project\n",
            "[Errno 2] No such file or directory: 'project'\n",
            "/content/drive/My Drive/ECE C147/project\n",
            "EEG_loading.ipynb  person_train_valid.npy  X_train_valid.npy  y_train_valid.npy\n",
            "person_test.npy    X_test.npy              y_test.npy\n"
          ],
          "name": "stdout"
        }
      ]
    },
    {
      "cell_type": "code",
      "metadata": {
        "id": "twAVHjJO1RbA"
      },
      "source": [
        "def count_parameters(model):\r\n",
        "  \"\"\"Function for count model's parameters\"\"\"\r\n",
        "  return sum(p.numel() for p in model.parameters() if p.requires_grad)"
      ],
      "execution_count": 12,
      "outputs": []
    },
    {
      "cell_type": "code",
      "metadata": {
        "colab": {
          "base_uri": "https://localhost:8080/",
          "height": 0
        },
        "id": "WPfULtUM1Sau",
        "outputId": "2134ded2-b440-4aa1-91bb-8aec0ba33842"
      },
      "source": [
        "import numpy as np\r\n",
        "import torch\r\n",
        "import torch.nn as nn\r\n",
        "from torch.utils.data import Dataset, DataLoader, TensorDataset, random_split\r\n",
        "from torchvision import transforms, utils\r\n",
        "import time\r\n",
        "\r\n",
        "# specific package for visualization\r\n",
        "!pip install livelossplot --quiet\r\n",
        "from livelossplot import PlotLosses\r\n",
        "\r\n",
        "# get the device type of machine\r\n",
        "device = torch.device('cuda' if torch.cuda.is_available() else 'cpu')\r\n",
        "# device = 'cpu'\r\n",
        "print(device)"
      ],
      "execution_count": 13,
      "outputs": [
        {
          "output_type": "stream",
          "text": [
            "cuda\n"
          ],
          "name": "stdout"
        }
      ]
    },
    {
      "cell_type": "code",
      "metadata": {
        "colab": {
          "base_uri": "https://localhost:8080/",
          "height": 0
        },
        "id": "LC77bF412DbC",
        "outputId": "ab25c5dc-7417-4458-bf0d-1b3c394acaad"
      },
      "source": [
        "X_test = np.load(\"X_test.npy\")\r\n",
        "y_test = np.load(\"y_test.npy\")\r\n",
        "person_train_valid = np.load(\"person_train_valid.npy\")\r\n",
        "X_train_valid = np.load(\"X_train_valid.npy\")\r\n",
        "y_train_valid = np.load(\"y_train_valid.npy\")\r\n",
        "person_test = np.load(\"person_test.npy\")\r\n",
        "\r\n",
        "# adjust labels \r\n",
        "y_train_valid -= 769\r\n",
        "y_test -= 769\r\n",
        "\r\n",
        "\r\n",
        "print('y_train_valid', y_train_valid[:10])\r\n",
        "\r\n",
        "# copy numpy data to tensor\r\n",
        "X_train_valid_tensor = torch.from_numpy(X_train_valid).float().to(device)\r\n",
        "y_train_valid_tensor = torch.from_numpy(y_train_valid).float().long().to(device) # do not forget .long()\r\n",
        "X_test_tensor = torch.from_numpy(X_test).float().to(device)\r\n",
        "y_test_tensor = torch.from_numpy(y_test).float().long().to(device)\r\n",
        "\r\n",
        "\r\n",
        "# # convert int labels to one hot labels\r\n",
        "# y_train_valid_tensor = nn.functional.one_hot(y_train_valid_tensor)\r\n",
        "# print('y_train_valid_onehot', y_train_valid_tensor[:10])"
      ],
      "execution_count": 14,
      "outputs": [
        {
          "output_type": "stream",
          "text": [
            "y_train_valid [2 3 0 0 0 0 2 1 3 3]\n"
          ],
          "name": "stdout"
        }
      ]
    },
    {
      "cell_type": "code",
      "metadata": {
        "colab": {
          "base_uri": "https://localhost:8080/",
          "height": 0
        },
        "id": "UEhGSsvu2Qty",
        "outputId": "0528622f-d233-4e53-c63a-12e487806703"
      },
      "source": [
        "print ('Training/Valid data shape: {}'.format(X_train_valid.shape))\r\n",
        "print ('Test data shape: {}'.format(X_test.shape))\r\n",
        "print ('Training/Valid target shape: {}'.format(y_train_valid.shape))\r\n",
        "print ('Test target shape: {}'.format(y_test.shape))\r\n",
        "print ('Person train/valid shape: {}'.format(person_train_valid.shape))\r\n",
        "print ('Person test shape: {}'.format(person_test.shape))"
      ],
      "execution_count": 15,
      "outputs": [
        {
          "output_type": "stream",
          "text": [
            "Training/Valid data shape: (2115, 22, 1000)\n",
            "Test data shape: (443, 22, 1000)\n",
            "Training/Valid target shape: (2115,)\n",
            "Test target shape: (443,)\n",
            "Person train/valid shape: (2115, 1)\n",
            "Person test shape: (443, 1)\n"
          ],
          "name": "stdout"
        }
      ]
    },
    {
      "cell_type": "code",
      "metadata": {
        "id": "RzAno7Ir35pR"
      },
      "source": [
        "class EEGDataset(Dataset):\r\n",
        "    \"\"\"EEG dataset.\"\"\"\r\n",
        "    def __init__(self, subset, transform=None):\r\n",
        "        self.subset = subset\r\n",
        "        self.transform = transform\r\n",
        "        \r\n",
        "    def __getitem__(self, index):\r\n",
        "        x, y = self.subset[index]\r\n",
        "        if self.transform:\r\n",
        "          pass \r\n",
        "            # x = self.transform(x)\r\n",
        "            # y = self.transform(y)\r\n",
        "        return x, y\r\n",
        "        \r\n",
        "    def __len__(self):\r\n",
        "        return len(self.subset)\r\n",
        "\r\n",
        "init_dataset = TensorDataset(X_train_valid_tensor, y_train_valid_tensor) \r\n",
        "test_dataset = TensorDataset(X_test_tensor,y_test_tensor)\r\n",
        "# split train and val\r\n",
        "lengths = [int(len(init_dataset)*0.8), int(len(init_dataset)*0.2)] \r\n",
        "subset_train, subset_val = random_split(init_dataset, lengths) \r\n",
        "\r\n",
        "train_data = EEGDataset(\r\n",
        "    subset_train, transform=None)\r\n",
        "\r\n",
        "val_data = EEGDataset(\r\n",
        "    subset_val, transform=None)\r\n",
        "\r\n",
        "test_data=EEGDataset(test_dataset,transform=None)\r\n",
        "\r\n",
        "dataloaders = {\r\n",
        "    'train': torch.utils.data.DataLoader(train_data, batch_size=32, shuffle=True, num_workers=0),\r\n",
        "    'val': torch.utils.data.DataLoader(val_data, batch_size=32, shuffle=True, num_workers=0),\r\n",
        "    'test':torch.utils.data.DataLoader(test_data, batch_size=64, shuffle=False, num_workers=0)\r\n",
        "}"
      ],
      "execution_count": 82,
      "outputs": []
    },
    {
      "cell_type": "markdown",
      "metadata": {
        "id": "CHDvcMnX4DtN"
      },
      "source": [
        "## Model"
      ]
    },
    {
      "cell_type": "code",
      "metadata": {
        "id": "iwjrA-Ou38Cr"
      },
      "source": [
        "class DeepConv(nn.Module):\r\n",
        "  def __init__(self, in_channels, classes):\r\n",
        "    super(DeepConv, self).__init__()\r\n",
        "    \r\n",
        "    self.conv1 = nn.Conv2d(in_channels, 25, (1, 10), stride=1)\r\n",
        "    self.relu1=nn.ELU()\r\n",
        "    self.bn1=nn.BatchNorm2d(num_features=25)\r\n",
        "    self.conv2 = nn.Conv2d(25,25,(22,1),stride=1)\r\n",
        "    self.relu2=nn.ELU()\r\n",
        "    self.bn2=nn.BatchNorm1d(num_features=25)\r\n",
        "    self.maxpool1 = nn.MaxPool1d(3, stride=3)\r\n",
        "\r\n",
        "    self.conv3=nn.Conv1d(25,50,10,1)\r\n",
        "    self.relu3=nn.ELU()\r\n",
        "    self.bn3=nn.BatchNorm1d(num_features=50)\r\n",
        "    self.maxpool2=nn.MaxPool1d(3,stride=3)\r\n",
        "\r\n",
        "    self.conv4 = nn.Conv1d(50,100,10,1)\r\n",
        "    self.relu4=nn.ELU()\r\n",
        "    self.bn4=nn.BatchNorm1d(num_features=100)\r\n",
        "    self.maxpool3=nn.MaxPool1d(3,stride=3)\r\n",
        "\r\n",
        "    self.conv5=nn.Conv1d(100,200,10,1)\r\n",
        "    self.relu5=nn.ELU()\r\n",
        "    self.bn5=nn.BatchNorm1d(num_features=200)\r\n",
        "    self.maxpool4=nn.MaxPool1d(3,stride=3)\r\n",
        "\r\n",
        "    self.fc = nn.Linear(1400, classes)\r\n",
        "\r\n",
        "\r\n",
        "  def forward(self, x):\r\n",
        "    x = x.view(-1, 1, 22, 1000) # reshape x: (B, 22, 1000) -> (B, 1, 22, 1000), B,C,H,W\r\n",
        "    x = self.conv1(x) # (B, 25, 22, 976)\r\n",
        "    x=self.relu1(x)\r\n",
        "    x=self.bn1(x)\r\n",
        "    #print(x.shape)\r\n",
        "    x=self.conv2(x) # B,25,1,976\r\n",
        "    x = self.relu2(x)\r\n",
        "    #print(x.shape)\r\n",
        "    x=x.reshape(-1,25,991) \r\n",
        "    x=self.bn2(x)\r\n",
        "    x=self.maxpool1(x)  #B,25,325\r\n",
        "\r\n",
        "    x=self.conv3(x) #B,50,316\r\n",
        "    x=self.relu3(x)\r\n",
        "    x=self.bn3(x)\r\n",
        "    x=self.maxpool2(x) # B,50,105\r\n",
        "\r\n",
        "    x=self.conv4(x)#B,100,96\r\n",
        "    x=self.relu4(x)\r\n",
        "    x=self.bn4(x)\r\n",
        "    x=self.maxpool3(x) #B,100,32\r\n",
        "\r\n",
        "    x=self.conv5(x) #B,200,23\r\n",
        "    x=self.relu5(x)\r\n",
        "    x=self.bn5(x)\r\n",
        "    x=self.maxpool4(x) #B,200,7\r\n",
        "\r\n",
        "    x=x.reshape(-1,1400)\r\n",
        "    x=self.fc(x)\r\n",
        "\r\n",
        "    return x\r\n"
      ],
      "execution_count": 83,
      "outputs": []
    },
    {
      "cell_type": "code",
      "metadata": {
        "id": "CP-IyXp3sCkb"
      },
      "source": [
        "def train_model(model, optimizer, num_epochs):\r\n",
        "    # for each epoch... \r\n",
        "    liveloss = PlotLosses()\r\n",
        "\r\n",
        "    for epoch in range(num_epochs):\r\n",
        "      print('Epoch {}/{}'.format(epoch, num_epochs - 1))\r\n",
        "      print('-' * 10)\r\n",
        "      logs = {}\r\n",
        "\r\n",
        "      # let every epoch go through one training cycle and one validation cycle\r\n",
        "      # TRAINING AND THEN VALIDATION LOOP...\r\n",
        "      for phase in ['train', 'val']:\r\n",
        "        train_loss = 0\r\n",
        "        correct = 0\r\n",
        "        total = 0\r\n",
        "        batch_idx = 0\r\n",
        "\r\n",
        "        start_time = time.time()\r\n",
        "        # first loop is training, second loop through is validation\r\n",
        "        # this conditional section picks out either a train mode or validation mode\r\n",
        "        # depending on where we are in the overall training process\r\n",
        "        # SELECT PROPER MODE- train or val\r\n",
        "        if phase == 'train':\r\n",
        "          for param_group in optimizer.param_groups:\r\n",
        "            print(\"LR\", param_group['lr']) # print out the learning rate\r\n",
        "          model.train()  # Set model to training mode\r\n",
        "        else:\r\n",
        "          model.eval()   # Set model to evaluate mode\r\n",
        "        \r\n",
        "        for inputs, labels in dataloaders[phase]:\r\n",
        "          inputs = inputs.to(device)\r\n",
        "          labels = labels.to(device)\r\n",
        "          batch_idx += 1\r\n",
        "          \r\n",
        "          optimizer.zero_grad()\r\n",
        "          \r\n",
        "          with torch.set_grad_enabled(phase == 'train'):\r\n",
        "          #    the above line says to disable gradient tracking for validation\r\n",
        "          #    which makes sense since the model is in evluation mode and we \r\n",
        "          #    don't want to track gradients for validation)\r\n",
        "            outputs = model(inputs)\r\n",
        "            # compute loss where the loss function will be defined later\r\n",
        "\r\n",
        "            loss = loss_fn(outputs, labels)\r\n",
        "            # backward + optimize only if in training phase\r\n",
        "            if phase == 'train':\r\n",
        "              loss.backward()\r\n",
        "              optimizer.step()\r\n",
        "            train_loss += loss\r\n",
        "            _, predicted = outputs.max(1)\r\n",
        "\r\n",
        "            total += labels.size(0)\r\n",
        "            correct += predicted.eq(labels).sum().item()\r\n",
        "\r\n",
        "        # if phase == 'train':\r\n",
        "        #   if  epoch%5 == 0:\r\n",
        "        #   # prints for training and then validation (since the network will be in either train or eval mode at this point) \r\n",
        "        #     print(\" Training Epoch %d, Total loss %0.6f, iteration time %0.6f\" % (epoch, train_loss, time.time() - start_time))\r\n",
        "\r\n",
        "        # if phase == 'val' and epoch%5 == 0:\r\n",
        "        #   print(\" Validation Epoch %d, Total loss %0.6f, iteration time %0.6f\" % (epoch, train_loss, time.time() - start_time))\r\n",
        "\r\n",
        "\r\n",
        "        prefix = ''\r\n",
        "        if phase == 'val':\r\n",
        "            prefix = 'val_'\r\n",
        "        \r\n",
        "        logs[prefix + 'loss'] = train_loss.item()/(batch_idx)\r\n",
        "        logs[prefix + 'acc'] = correct/total*100.\r\n",
        "\r\n",
        "      liveloss.update(logs)\r\n",
        "      liveloss.send()\r\n",
        "\r\n",
        "    # end of single epoch iteration... repeat of n epochs  \r\n",
        "    return model"
      ],
      "execution_count": 84,
      "outputs": []
    },
    {
      "cell_type": "code",
      "metadata": {
        "id": "F0_2c_gUuHF1"
      },
      "source": [
        "def test(model):\r\n",
        "    dataloader = dataloaders['test']\r\n",
        "    size = len(dataloader.dataset)\r\n",
        "    model.eval()\r\n",
        "    test_loss, correct = 0, 0\r\n",
        "    with torch.no_grad():\r\n",
        "        for X, y in dataloader:\r\n",
        "            X, y = X.to(device), y.to(device)\r\n",
        "            pred = model(X)\r\n",
        "            test_loss += loss_fn(pred, y).item()\r\n",
        "            correct += (pred.argmax(1) == y).type(torch.float).sum().item()\r\n",
        "    test_loss /= size\r\n",
        "    correct /= size\r\n",
        "    print(f\"Test Error: \\n Accuracy: {(100*correct):>0.1f}%, Avg loss: {test_loss:>8f} \\n\")"
      ],
      "execution_count": 85,
      "outputs": []
    },
    {
      "cell_type": "markdown",
      "metadata": {
        "id": "wMsOtEjRtjjl"
      },
      "source": [
        "## Train the Model"
      ]
    },
    {
      "cell_type": "code",
      "metadata": {
        "colab": {
          "base_uri": "https://localhost:8080/"
        },
        "id": "P8y1309QtjIP",
        "outputId": "7abcc5f4-16f5-4b92-8cc6-d1110ed26039"
      },
      "source": [
        "# define the hyperparamters\r\n",
        "weight_decay = 0.15  # weight decay to alleviate overfiting\r\n",
        "\r\n",
        "model = DeepConv(in_channels=1, classes=4).to(device)\r\n",
        "\r\n",
        "count = count_parameters(model)\r\n",
        "print ('model parameters amount {}'.format(count))\r\n",
        "\r\n",
        "loss_fn = nn.CrossEntropyLoss()\r\n",
        "optimizer = torch.optim.RMSprop(model.parameters(), lr = 1e-6, weight_decay=weight_decay)"
      ],
      "execution_count": 101,
      "outputs": [
        {
          "output_type": "stream",
          "text": [
            "model parameters amount 283304\n"
          ],
          "name": "stdout"
        }
      ]
    },
    {
      "cell_type": "code",
      "metadata": {
        "colab": {
          "base_uri": "https://localhost:8080/",
          "height": 688
        },
        "id": "eYdmXjjBt18M",
        "outputId": "17f46352-7c33-4fd9-8f99-87b7a01bdd3e"
      },
      "source": [
        "model=train_model(model, optimizer, num_epochs=800)"
      ],
      "execution_count": 102,
      "outputs": [
        {
          "output_type": "display_data",
          "data": {
            "image/png": "[encoded data removed]",
            "text/plain": [
              "<Figure size 864x576 with 2 Axes>"
            ]
          },
          "metadata": {
            "tags": [],
            "needs_background": "light"
          }
        },
        {
          "output_type": "stream",
          "text": [
            "Accuracy\n",
            "\ttraining         \t (min:   25.177, max:  100.000, cur:  100.000)\n",
            "\tvalidation       \t (min:   28.369, max:   52.955, cur:   52.719)\n",
            "Loss\n",
            "\ttraining         \t (min:    0.051, max:    1.488, cur:    0.051)\n",
            "\tvalidation       \t (min:    1.138, max:    1.468, cur:    1.169)\n"
          ],
          "name": "stdout"
        }
      ]
    },
    {
      "cell_type": "code",
      "metadata": {
        "colab": {
          "base_uri": "https://localhost:8080/"
        },
        "id": "GXaXtpbnHoxC",
        "outputId": "38a535cd-a1c7-4d79-927d-9be999860301"
      },
      "source": [
        "test(model)"
      ],
      "execution_count": 103,
      "outputs": [
        {
          "output_type": "stream",
          "text": [
            "Test Error: \n",
            " Accuracy: 49.2%, Avg loss: 0.019476 \n",
            "\n"
          ],
          "name": "stdout"
        }
      ]
    }
  ]
}